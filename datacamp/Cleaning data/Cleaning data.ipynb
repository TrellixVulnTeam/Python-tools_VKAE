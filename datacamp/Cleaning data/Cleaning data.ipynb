{
 "cells": [
  {
   "cell_type": "markdown",
   "metadata": {},
   "source": [
    "# Clase 1 Exploring your data"
   ]
  },
  {
   "cell_type": "code",
   "execution_count": 1,
   "metadata": {},
   "outputs": [],
   "source": [
    "#importar data\n",
    "import pandas as pd\n",
    "data1 = pd.read_excel(\"../datasets/TREND01-5G-educ-fertility-bubbles.xls\", index_col=0)"
   ]
  },
  {
   "cell_type": "code",
   "execution_count": 2,
   "metadata": {},
   "outputs": [
    {
     "name": "stdout",
     "output_type": "stream",
     "text": [
      "          Continent female literacy fertility    population\n",
      "Country                                                    \n",
      "Chine           ASI            90.5     1.769  1.324655e+09\n",
      "Inde            ASI            50.8     2.682  1.139965e+09\n",
      "USA             NAM              99     2.077  3.040600e+08\n",
      "Indonésie       ASI            88.8     2.132  2.273451e+08\n",
      "Brésil          LAT            90.2     1.827  1.919715e+08\n"
     ]
    }
   ],
   "source": [
    "print(data1.head()) #ver el inicio"
   ]
  },
  {
   "cell_type": "code",
   "execution_count": 3,
   "metadata": {
    "scrolled": true
   },
   "outputs": [
    {
     "name": "stdout",
     "output_type": "stream",
     "text": [
      "                                   Continent female literacy fertility  \\\n",
      "Country                                                                  \n",
      "Antilles néerlandaises                   NaN            96.3       NaN   \n",
      "Iles Caïmanes                            NaN              99       NaN   \n",
      "Seychelles                               NaN            92.3       NaN   \n",
      "Territoires autonomes palestiniens       NaN            90.9       NaN   \n",
      "WORLD                                  WORLD              77       NaN   \n",
      "\n",
      "                                    population  \n",
      "Country                                         \n",
      "Antilles néerlandaises                     NaN  \n",
      "Iles Caïmanes                              NaN  \n",
      "Seychelles                                 NaN  \n",
      "Territoires autonomes palestiniens         NaN  \n",
      "WORLD                                      NaN  \n"
     ]
    }
   ],
   "source": [
    "print(data1.tail()) #ver el final"
   ]
  },
  {
   "cell_type": "code",
   "execution_count": null,
   "metadata": {},
   "outputs": [],
   "source": [
    "print(data1.columns) # conocer las columnas"
   ]
  },
  {
   "cell_type": "code",
   "execution_count": 18,
   "metadata": {},
   "outputs": [
    {
     "name": "stdout",
     "output_type": "stream",
     "text": [
      "(189, 4)\n"
     ]
    }
   ],
   "source": [
    "print (data1.shape) #conocer la distribucion de la columna"
   ]
  },
  {
   "cell_type": "code",
   "execution_count": 20,
   "metadata": {},
   "outputs": [
    {
     "name": "stdout",
     "output_type": "stream",
     "text": [
      "<bound method DataFrame.info of                                                    Unnamed: 1  \\\n",
      "Sources: UNESCO Institute for statistics ; Worl...              \n",
      "NaN                                                       NaN   \n",
      "SEE FOLLOWING SHEETS FOR RAW DATA AND LINKS               NaN   \n",
      "NaN                                                       NaN   \n",
      "Fertility versus female literacy by country               NaN   \n",
      "NaN                                                       NaN   \n",
      "NaN                                                       NaN   \n",
      "Country                                             Continent   \n",
      "Chine                                                     ASI   \n",
      "Inde                                                      ASI   \n",
      "USA                                                       NAM   \n",
      "Indonésie                                                 ASI   \n",
      "Brésil                                                    LAT   \n",
      "Pakistan                                                  ASI   \n",
      "Bangladesh                                                ASI   \n",
      "Nigéria                                                    AF   \n",
      "Fédération de Russie                                      EUR   \n",
      "Japan                                                     ASI   \n",
      "Mexique                                                   LAT   \n",
      "Philippines                                               ASI   \n",
      "Viet Nam                                                  ASI   \n",
      "Germany                                                   EUR   \n",
      "Egypte                                                     AF   \n",
      "Ethiopie                                                   AF   \n",
      "Turquie                                                   ASI   \n",
      "Iran, République islamique d'                             ASI   \n",
      "Thaïlande                                                 ASI   \n",
      "Rép. Démocratique du Congo                                 AF   \n",
      "France                                                    EUR   \n",
      "UK                                                        EUR   \n",
      "Italie                                                    EUR   \n",
      "...                                                       ...   \n",
      "Malte                                                     EUR   \n",
      "Brunéi Darussalam                                         ASI   \n",
      "Bahamas                                                   LAT   \n",
      "Iceland                                                   EUR   \n",
      "Maldives                                                  ASI   \n",
      "Vanuatu                                                   OCE   \n",
      "Samoa                                                     OCE   \n",
      "Sao Tomé-et-Principe                                       AF   \n",
      "Aruba                                                     LAT   \n",
      "Tonga                                                     ASI   \n",
      "NaN                                                       NaN   \n",
      "NaN                                                       NaN   \n",
      "NaN                                                       NaN   \n",
      "NaN                                                       NaN   \n",
      "NaN                                                       NaN   \n",
      "NaN                                                       NaN   \n",
      "NaN                                                       NaN   \n",
      "NaN                                                       NaN   \n",
      "NaN                                                       NaN   \n",
      "NaN                                                       NaN   \n",
      "NaN                                                       NaN   \n",
      "NaN                                                       NaN   \n",
      "NaN                                                       NaN   \n",
      "Country                                             Continent   \n",
      "Antigua-et-Barbuda                                        NaN   \n",
      "Antilles néerlandaises                                    NaN   \n",
      "Iles Caïmanes                                             NaN   \n",
      "Seychelles                                                NaN   \n",
      "Territoires autonomes palestiniens                        NaN   \n",
      "WORLD                                                   WORLD   \n",
      "\n",
      "                                                                    Unnamed: 2  \\\n",
      "Sources: UNESCO Institute for statistics ; Worl...                               \n",
      "NaN                                                                        NaN   \n",
      "SEE FOLLOWING SHEETS FOR RAW DATA AND LINKS                                NaN   \n",
      "NaN                                                                        NaN   \n",
      "Fertility versus female literacy by country                                NaN   \n",
      "NaN                                                          most recent value   \n",
      "NaN                                                 or estimate (2002 to 2008)   \n",
      "Country                                                        female literacy   \n",
      "Chine                                                                     90.5   \n",
      "Inde                                                                      50.8   \n",
      "USA                                                                         99   \n",
      "Indonésie                                                                 88.8   \n",
      "Brésil                                                                    90.2   \n",
      "Pakistan                                                                    40   \n",
      "Bangladesh                                                                49.8   \n",
      "Nigéria                                                                   48.8   \n",
      "Fédération de Russie                                                      99.4   \n",
      "Japan                                                                       99   \n",
      "Mexique                                                                   91.5   \n",
      "Philippines                                                               93.9   \n",
      "Viet Nam                                                                  90.2   \n",
      "Germany                                                                     99   \n",
      "Egypte                                                                    57.8   \n",
      "Ethiopie                                                                  22.8   \n",
      "Turquie                                                                   81.3   \n",
      "Iran, République islamique d'                                             77.2   \n",
      "Thaïlande                                                                 91.5   \n",
      "Rép. Démocratique du Congo                                                56.1   \n",
      "France                                                                      99   \n",
      "UK                                                                          99   \n",
      "Italie                                                                    98.5   \n",
      "...                                                                        ...   \n",
      "Malte                                                                     93.5   \n",
      "Brunéi Darussalam                                                         93.3   \n",
      "Bahamas                                                                   96.5   \n",
      "Iceland                                                                     99   \n",
      "Maldives                                                                  98.4   \n",
      "Vanuatu                                                                   79.5   \n",
      "Samoa                                                                     98.5   \n",
      "Sao Tomé-et-Principe                                                      83.3   \n",
      "Aruba                                                                       98   \n",
      "Tonga                                                                     99.1   \n",
      "NaN                                                                        NaN   \n",
      "NaN                                                                        NaN   \n",
      "NaN                                                                        NaN   \n",
      "NaN                                                                        NaN   \n",
      "NaN                                                                        NaN   \n",
      "NaN                                                                        NaN   \n",
      "NaN                                                                        NaN   \n",
      "NaN                                                                        NaN   \n",
      "NaN                                                                        NaN   \n",
      "NaN                                                                        NaN   \n",
      "NaN                                                                        NaN   \n",
      "NaN                                                                        NaN   \n",
      "NaN                                                                        NaN   \n",
      "Country                                                        female literacy   \n",
      "Antigua-et-Barbuda                                                        99.4   \n",
      "Antilles néerlandaises                                                    96.3   \n",
      "Iles Caïmanes                                                               99   \n",
      "Seychelles                                                                92.3   \n",
      "Territoires autonomes palestiniens                                        90.9   \n",
      "WORLD                                                                       77   \n",
      "\n",
      "                                                   Unnamed: 3   Unnamed: 4  \n",
      "Sources: UNESCO Institute for statistics ; Worl...                          \n",
      "NaN                                                       NaN          NaN  \n",
      "SEE FOLLOWING SHEETS FOR RAW DATA AND LINKS               NaN          NaN  \n",
      "NaN                                                       NaN          NaN  \n",
      "Fertility versus female literacy by country               NaN          NaN  \n",
      "NaN                                                       NaN          NaN  \n",
      "NaN                                                      2009         2008  \n",
      "Country                                             fertility   population  \n",
      "Chine                                                   1.769   1324655000  \n",
      "Inde                                                    2.682  1.13996e+09  \n",
      "USA                                                     2.077    304060000  \n",
      "Indonésie                                               2.132    227345082  \n",
      "Brésil                                                  1.827    191971506  \n",
      "Pakistan                                                3.872  1.66111e+08  \n",
      "Bangladesh                                              2.288    160000128  \n",
      "Nigéria                                                 5.173    151212254  \n",
      "Fédération de Russie                                    1.393    141950000  \n",
      "Japan                                                   1.262    127704000  \n",
      "Mexique                                                 2.156   1.0635e+08  \n",
      "Philippines                                             3.026     90348437  \n",
      "Viet Nam                                                2.033     86210781  \n",
      "Germany                                                 1.324     82110097  \n",
      "Egypte                                                  2.816     81527172  \n",
      "Ethiopie                                                5.211     80713434  \n",
      "Turquie                                                   2.1     73914260  \n",
      "Iran, République islamique d'                           1.781  7.19563e+07  \n",
      "Thaïlande                                               1.822     67386383  \n",
      "Rép. Démocratique du Congo                              5.908     64256635  \n",
      "France                                                  1.881     62277432  \n",
      "UK                                                      1.852     61414062  \n",
      "Italie                                                   1.39     59832179  \n",
      "...                                                       ...          ...  \n",
      "Malte                                                   1.251       411950  \n",
      "Brunéi Darussalam                                       2.052       392280  \n",
      "Bahamas                                                 3.371       337668  \n",
      "Iceland                                                 2.093       317414  \n",
      "Maldives                                                    2       305027  \n",
      "Vanuatu                                                 3.883       233866  \n",
      "Samoa                                                   3.852       178869  \n",
      "Sao Tomé-et-Principe                                    3.718       160174  \n",
      "Aruba                                                   1.732       105455  \n",
      "Tonga                                                   3.928       103566  \n",
      "NaN                                                       NaN          NaN  \n",
      "NaN                                                       NaN          NaN  \n",
      "NaN                                                       NaN          NaN  \n",
      "NaN                                                       NaN          NaN  \n",
      "NaN                                                       NaN          NaN  \n",
      "NaN                                                       NaN          NaN  \n",
      "NaN                                                       NaN          NaN  \n",
      "NaN                                                       NaN          NaN  \n",
      "NaN                                                       NaN          NaN  \n",
      "NaN                                                       NaN          NaN  \n",
      "NaN                                                       NaN          NaN  \n",
      "NaN                                                       NaN          NaN  \n",
      "NaN                                                       NaN          NaN  \n",
      "Country                                             fertility          NaN  \n",
      "Antigua-et-Barbuda                                        NaN          NaN  \n",
      "Antilles néerlandaises                                    NaN          NaN  \n",
      "Iles Caïmanes                                             NaN          NaN  \n",
      "Seychelles                                                NaN          NaN  \n",
      "Territoires autonomes palestiniens                        NaN          NaN  \n",
      "WORLD                                                     NaN          NaN  \n",
      "\n",
      "[189 rows x 4 columns]>\n"
     ]
    }
   ],
   "source": [
    "print(data1.info) #conocer la tabla"
   ]
  },
  {
   "cell_type": "code",
   "execution_count": 16,
   "metadata": {},
   "outputs": [
    {
     "name": "stdout",
     "output_type": "stream",
     "text": [
      "count     163.000\n",
      "unique    158.000\n",
      "top         1.854\n",
      "freq        2.000\n",
      "Name: fertility, dtype: float64\n"
     ]
    }
   ],
   "source": [
    "print(data1[\"fertility\"].describe()) #conocer la tabla y sus valores minimos y máximos"
   ]
  },
  {
   "cell_type": "markdown",
   "metadata": {},
   "source": [
    "# Clase 2 Exploratory data analysis"
   ]
  },
  {
   "cell_type": "code",
   "execution_count": 12,
   "metadata": {},
   "outputs": [
    {
     "name": "stdout",
     "output_type": "stream",
     "text": [
      "AF           49\n",
      "ASI          47\n",
      "EUR          36\n",
      "LAT          24\n",
      "NaN          18\n",
      "OCE           4\n",
      "NAM           2\n",
      "Continent     1\n",
      "WORLD         1\n",
      "Name: Continent, dtype: int64\n"
     ]
    }
   ],
   "source": [
    "print(data1[\"Continent\"].value_counts(dropna=False)) # cuanta la cantidad de valores con una cifra , contar elementos comunes"
   ]
  },
  {
   "cell_type": "markdown",
   "metadata": {},
   "source": [
    "# Clase 3 Visual exploratory data analysis"
   ]
  },
  {
   "cell_type": "code",
   "execution_count": 20,
   "metadata": {},
   "outputs": [
    {
     "data": {
      "image/png": "[encoded data removed]",
      "text/plain": [
       "<matplotlib.figure.Figure at 0x9538190>"
      ]
     },
     "metadata": {},
     "output_type": "display_data"
    }
   ],
   "source": [
    "data1.boxplot(column=\"population\", by=\"Continent\")\n",
    "import matplotlib.pyplot as plt\n",
    "\n",
    "plt.show()"
   ]
  },
  {
   "cell_type": "code",
   "execution_count": 25,
   "metadata": {
    "scrolled": true
   },
   "outputs": [
    {
     "data": {
      "image/png": "[encoded data removed]",
      "text/plain": [
       "<matplotlib.figure.Figure at 0xa718b70>"
      ]
     },
     "metadata": {},
     "output_type": "display_data"
    }
   ],
   "source": [
    "plt.scatter(data1[\"population\"],data1[\"Continent\"] )\n",
    "import matplotlib.pyplot as plt\n",
    "\n",
    "plt.show()"
   ]
  },
  {
   "cell_type": "code",
   "execution_count": null,
   "metadata": {},
   "outputs": [],
   "source": [
    "#ejemplo de datacamp"
   ]
  },
  {
   "cell_type": "code",
   "execution_count": 28,
   "metadata": {},
   "outputs": [
    {
     "data": {
      "image/png": "[encoded data removed]",
      "text/plain": [
       "<matplotlib.figure.Figure at 0xa718b10>"
      ]
     },
     "metadata": {},
     "output_type": "display_data"
    }
   ],
   "source": [
    "# Import matplotlib.pyplot\n",
    "import matplotlib.pyplot as plt\n",
    "\n",
    "# Plot the histogram\n",
    "data1[\"population\"].plot(kind='hist', rot=70, logx=True, logy=True) \n",
    "\n",
    "# Display the histogram\n",
    "plt.show()"
   ]
  },
  {
   "cell_type": "code",
   "execution_count": null,
   "metadata": {},
   "outputs": [],
   "source": []
  }
 ],
 "metadata": {
  "kernelspec": {
   "display_name": "Python 3",
   "language": "python",
   "name": "python3"
  },
  "language_info": {
   "codemirror_mode": {
    "name": "ipython",
    "version": 3
   },
   "file_extension": ".py",
   "mimetype": "text/x-python",
   "name": "python",
   "nbconvert_exporter": "python",
   "pygments_lexer": "ipython3",
   "version": "3.6.3"
  }
 },
 "nbformat": 4,
 "nbformat_minor": 2
}
