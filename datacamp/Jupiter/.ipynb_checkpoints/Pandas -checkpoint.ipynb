{
 "cells": [
  {
   "cell_type": "markdown",
   "metadata": {},
   "source": [
    "# PANDAS"
   ]
  },
  {
   "cell_type": "code",
   "execution_count": 2,
   "metadata": {},
   "outputs": [
    {
     "name": "stdout",
     "output_type": "stream",
     "text": [
      "BR          Brazil\n",
      "RU          Russia\n",
      "IN           India\n",
      "CH           China\n",
      "SA    South Africa\n",
      "Name: country, dtype: object\n"
     ]
    }
   ],
   "source": [
    "import pandas as pd\n",
    "#importar archivos CSV con pandas \n",
    "data1 = pd.read_csv(\"../datasets/brics.csv\", index_col=0)\n",
    "\n",
    "\n",
    "#seleccionar una columna\n",
    "data1[\"country\"]\n",
    "print (data1[\"country\"])"
   ]
  },
  {
   "cell_type": "code",
   "execution_count": 4,
   "metadata": {},
   "outputs": [
    {
     "name": "stdout",
     "output_type": "stream",
     "text": [
      "            area   population\n",
      "count   5.000000     5.000000\n",
      "mean    7.944000   601.176000\n",
      "std     6.200557   645.261454\n",
      "min     1.221000    52.980000\n",
      "25%     3.286000   143.500000\n",
      "50%     8.516000   200.400000\n",
      "75%     9.597000  1252.000000\n",
      "max    17.100000  1357.000000\n"
     ]
    }
   ],
   "source": [
    "#describe una columna\n",
    "print (data1.describe())"
   ]
  },
  {
   "cell_type": "code",
   "execution_count": 5,
   "metadata": {},
   "outputs": [
    {
     "name": "stdout",
     "output_type": "stream",
     "text": [
      "<class 'pandas.core.frame.DataFrame'>\n",
      "Index: 5 entries, BR to SA\n",
      "Data columns (total 4 columns):\n",
      "country       5 non-null object\n",
      "capital       5 non-null object\n",
      "area          5 non-null float64\n",
      "population    5 non-null float64\n",
      "dtypes: float64(2), object(2)\n",
      "memory usage: 140.0+ bytes\n",
      "None\n"
     ]
    }
   ],
   "source": [
    "#da informacio relevante sobre una columna\n",
    "print (data1.info())"
   ]
  },
  {
   "cell_type": "code",
   "execution_count": 6,
   "metadata": {},
   "outputs": [
    {
     "name": "stdout",
     "output_type": "stream",
     "text": [
      "(5, 4)\n"
     ]
    }
   ],
   "source": [
    "#conocer la forma de la tabla\n",
    "print (data1.shape)"
   ]
  },
  {
   "cell_type": "code",
   "execution_count": 7,
   "metadata": {},
   "outputs": [
    {
     "name": "stdout",
     "output_type": "stream",
     "text": [
      "         country    capital    area  population\n",
      "BR        Brazil   Brasilia   8.516      200.40\n",
      "RU        Russia     Moscow  17.100      143.50\n",
      "IN         India  New Delhi   3.286     1252.00\n",
      "CH         China    Beijing   9.597     1357.00\n",
      "SA  South Africa   Pretoria   1.221       52.98\n"
     ]
    }
   ],
   "source": [
    "#el top 5\n",
    "print (data1.head())"
   ]
  },
  {
   "cell_type": "markdown",
   "metadata": {},
   "source": [
    "# Melt"
   ]
  }
 ],
 "metadata": {
  "kernelspec": {
   "display_name": "Python 3",
   "language": "python",
   "name": "python3"
  },
  "language_info": {
   "codemirror_mode": {
    "name": "ipython",
    "version": 3
   },
   "file_extension": ".py",
   "mimetype": "text/x-python",
   "name": "python",
   "nbconvert_exporter": "python",
   "pygments_lexer": "ipython3",
   "version": "3.6.3"
  }
 },
 "nbformat": 4,
 "nbformat_minor": 2
}
